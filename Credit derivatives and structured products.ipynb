{
 "cells": [
  {
   "cell_type": "code",
   "execution_count": 1,
   "metadata": {},
   "outputs": [],
   "source": [
    "import pandas as pd\n",
    "import numpy as np\n",
    "import os"
   ]
  },
  {
   "cell_type": "markdown",
   "metadata": {},
   "source": [
    "Assumptions are:\n",
    "    * notional A = 1\n",
    "    * recovery R=0"
   ]
  },
  {
   "cell_type": "code",
   "execution_count": 2,
   "metadata": {},
   "outputs": [],
   "source": [
    "os.chdir(r'C:\\Users\\Zhang Wu\\Desktop\\Financial Enginerring and risk management II')"
   ]
  },
  {
   "cell_type": "code",
   "execution_count": 6,
   "metadata": {},
   "outputs": [],
   "source": [
    "df = pd.read_excel('StructuredCredit_PSet4.xlsx',index_col=1, usecols=2)"
   ]
  },
  {
   "cell_type": "code",
   "execution_count": 7,
   "metadata": {},
   "outputs": [
    {
     "data": {
      "text/plain": [
       "Credit #\n",
       "1     0.200\n",
       "2     0.200\n",
       "3     0.060\n",
       "4     0.300\n",
       "5     0.400\n",
       "6     0.650\n",
       "7     0.300\n",
       "8     0.230\n",
       "9     0.020\n",
       "10    0.120\n",
       "11    0.134\n",
       "12    0.210\n",
       "13    0.080\n",
       "14    0.100\n",
       "15    0.100\n",
       "16    0.020\n",
       "17    0.300\n",
       "18    0.015\n",
       "19    0.200\n",
       "20    0.030\n",
       "Name: Default Prob, dtype: float64"
      ]
     },
     "execution_count": 7,
     "metadata": {},
     "output_type": "execute_result"
    }
   ],
   "source": [
    "df=df['Default Prob']\n",
    "df"
   ]
  },
  {
   "cell_type": "code",
   "execution_count": 10,
   "metadata": {},
   "outputs": [
    {
     "data": {
      "text/plain": [
       "0.06"
      ]
     },
     "execution_count": 10,
     "metadata": {},
     "output_type": "execute_result"
    }
   ],
   "source": [
    "df[3]"
   ]
  },
  {
   "cell_type": "code",
   "execution_count": 33,
   "metadata": {},
   "outputs": [],
   "source": [
    "def default_distribution(df):\n",
    "    N = len(df)\n",
    "    p= np.zeros((N+1))\n",
    "    p[0]=1-df[1]\n",
    "    p[1]=df[1]\n",
    "    for i in range(2,N+1):\n",
    "        for j in range(i,0,-1):\n",
    "            p[j]=p[j-1]*df[i]+p[j]*(1-df[i])\n",
    "        p[0]=p[0]*(1-df[i])\n",
    "    return p"
   ]
  },
  {
   "cell_type": "code",
   "execution_count": 37,
   "metadata": {},
   "outputs": [
    {
     "data": {
      "text/plain": [
       "array([1.09891113e-02, 6.45624252e-02, 1.62882822e-01, 2.39908618e-01,\n",
       "       2.34009981e-01, 1.61664317e-01, 8.23351417e-02, 3.16963775e-02,\n",
       "       9.36724594e-03, 2.14387057e-03, 3.81327164e-04, 5.26585732e-05,\n",
       "       5.61552617e-06, 4.57889557e-07, 2.81199404e-08, 1.27291051e-09,\n",
       "       4.12157876e-11, 9.14832636e-13, 1.30513743e-14, 1.06691685e-16,\n",
       "       3.76854770e-19])"
      ]
     },
     "execution_count": 37,
     "metadata": {},
     "output_type": "execute_result"
    }
   ],
   "source": [
    "p=default_distribution(df)\n",
    "p"
   ]
  },
  {
   "cell_type": "code",
   "execution_count": 38,
   "metadata": {},
   "outputs": [
    {
     "data": {
      "text/plain": [
       "0.23990861813910855"
      ]
     },
     "execution_count": 38,
     "metadata": {},
     "output_type": "execute_result"
    }
   ],
   "source": [
    "#q1\n",
    "p[3]"
   ]
  },
  {
   "cell_type": "code",
   "execution_count": 40,
   "metadata": {},
   "outputs": [
    {
     "data": {
      "text/plain": [
       "3.669"
      ]
     },
     "execution_count": 40,
     "metadata": {},
     "output_type": "execute_result"
    }
   ],
   "source": [
    "#q2 expected loss\n",
    "mean=sum(df)\n",
    "mean"
   ]
  },
  {
   "cell_type": "code",
   "execution_count": 41,
   "metadata": {},
   "outputs": [
    {
     "data": {
      "text/plain": [
       "2.535219"
      ]
     },
     "execution_count": 41,
     "metadata": {},
     "output_type": "execute_result"
    }
   ],
   "source": [
    "#q3 variance\n",
    "var = sum([p[i]*(i-mean)**2 for i in range(len(p))])\n",
    "var"
   ]
  },
  {
   "cell_type": "code",
   "execution_count": 42,
   "metadata": {},
   "outputs": [
    {
     "data": {
      "text/plain": [
       "1.913459352175101"
      ]
     },
     "execution_count": 42,
     "metadata": {},
     "output_type": "execute_result"
    }
   ],
   "source": [
    "# expected loss in the tranche 0-2\n",
    "loss = 1*p[1]+ 2*(1-p[0]-p[1])\n",
    "loss"
   ]
  },
  {
   "cell_type": "code",
   "execution_count": 58,
   "metadata": {},
   "outputs": [
    {
     "data": {
      "text/plain": [
       "1.283222663870053"
      ]
     },
     "execution_count": 58,
     "metadata": {},
     "output_type": "execute_result"
    }
   ],
   "source": [
    "#q5 2-4\n",
    "loss2 = 1*p[3]+2*sum([p[i] for i in range(4,21)])\n",
    "loss2"
   ]
  },
  {
   "cell_type": "code",
   "execution_count": 59,
   "metadata": {},
   "outputs": [
    {
     "data": {
      "text/plain": [
       "0.4723179839548466"
      ]
     },
     "execution_count": 59,
     "metadata": {},
     "output_type": "execute_result"
    }
   ],
   "source": [
    "#q6 4-20, we will consider total minus 0-3\n",
    "loss3=sum([(i-4)*p[i] for i in range(5,20)])\n",
    "loss3"
   ]
  },
  {
   "cell_type": "markdown",
   "metadata": {},
   "source": [
    "questions are misleading, it shoud be understood that three are three tranches\n",
    "* 0-2\n",
    "* 3-4\n",
    "* 5-20"
   ]
  },
  {
   "cell_type": "code",
   "execution_count": null,
   "metadata": {},
   "outputs": [],
   "source": []
  }
 ],
 "metadata": {
  "kernelspec": {
   "display_name": "Python 3",
   "language": "python",
   "name": "python3"
  },
  "language_info": {
   "codemirror_mode": {
    "name": "ipython",
    "version": 3
   },
   "file_extension": ".py",
   "mimetype": "text/x-python",
   "name": "python",
   "nbconvert_exporter": "python",
   "pygments_lexer": "ipython3",
   "version": "3.7.1"
  }
 },
 "nbformat": 4,
 "nbformat_minor": 2
}
